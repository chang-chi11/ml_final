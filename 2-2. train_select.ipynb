{
 "cells": [
  {
   "cell_type": "code",
   "execution_count": 1,
   "id": "79d770d8-0878-4fb9-b990-44ee81ae2513",
   "metadata": {},
   "outputs": [
    {
     "name": "stdout",
     "output_type": "stream",
     "text": [
      "已成功從 'C:/Users/ycliou/Desktop/xray/8020/train/p_original' 中隨機抽取 2550 張圖片，並存入 'C:/Users/ycliou/Desktop/xray/8020/train/p' 資料夾。\n"
     ]
    }
   ],
   "source": [
    "import os\n",
    "import shutil\n",
    "import random\n",
    "\n",
    "def select_random_images(src_dir, dst_dir, num_images):\n",
    "    # 確保目標資料夾存在\n",
    "    os.makedirs(dst_dir, exist_ok=True)\n",
    "\n",
    "    # 獲取來源資料夾中的所有圖片檔案\n",
    "    all_images = [img for img in os.listdir(src_dir) if img.lower().endswith(('.jpg', '.jpeg', '.png'))]\n",
    "\n",
    "    # 如果圖片數量不足，提示錯誤\n",
    "    if len(all_images) < num_images:\n",
    "        raise ValueError(f\"來源資料夾中的圖片不足，僅有 {len(all_images)} 張圖片，無法抽取 {num_images} 張。\")\n",
    "\n",
    "    # 隨機抽取指定數量的圖片\n",
    "    selected_images = random.sample(all_images, num_images)\n",
    "\n",
    "    # 將選定的圖片複製到目標資料夾\n",
    "    for img_name in selected_images:\n",
    "        src_path = os.path.join(src_dir, img_name)\n",
    "        dst_path = os.path.join(dst_dir, img_name)\n",
    "        shutil.copy(src_path, dst_path)  # 使用 copy 保留原始檔案\n",
    "\n",
    "    print(f\"已成功從 '{src_dir}' 中隨機抽取 {num_images} 張圖片，並存入 '{dst_dir}' 資料夾。\")\n",
    "\n",
    "source_directory = \"C:/Users/ycliou/Desktop/xray/8020/train/p_original\"\n",
    "destination_directory = \"C:/Users/ycliou/Desktop/xray/8020/train/p\"\n",
    "number_of_images = 2550\n",
    "\n",
    "select_random_images(source_directory, destination_directory, number_of_images)"
   ]
  },
  {
   "cell_type": "code",
   "execution_count": null,
   "id": "b1cdb65f-bd72-4007-bec3-ba490e736884",
   "metadata": {},
   "outputs": [],
   "source": []
  }
 ],
 "metadata": {
  "kernelspec": {
   "display_name": "Python 3 (ipykernel)",
   "language": "python",
   "name": "python3"
  },
  "language_info": {
   "codemirror_mode": {
    "name": "ipython",
    "version": 3
   },
   "file_extension": ".py",
   "mimetype": "text/x-python",
   "name": "python",
   "nbconvert_exporter": "python",
   "pygments_lexer": "ipython3",
   "version": "3.12.4"
  }
 },
 "nbformat": 4,
 "nbformat_minor": 5
}
