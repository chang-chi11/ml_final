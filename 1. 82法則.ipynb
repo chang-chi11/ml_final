{
 "cells": [
  {
   "cell_type": "code",
   "execution_count": 1,
   "id": "dd1b7a5f-6519-40e8-89c7-f76550236a39",
   "metadata": {},
   "outputs": [
    {
     "name": "stdout",
     "output_type": "stream",
     "text": [
      "圖片已保存到 'C:/Users/ycliou/Desktop/xray/8020' 資料夾中，分為訓練集和測試集。\n"
     ]
    }
   ],
   "source": [
    "import os\n",
    "import cv2\n",
    "import random\n",
    "import numpy as np\n",
    "from sklearn.model_selection import train_test_split\n",
    "\n",
    "# 參數設定\n",
    "all_dir = \"C:/Users/ycliou/Desktop/xray\" # 原始資料夾\n",
    "categories = [\"n\", \"p\"]\n",
    "all_data = []\n",
    "output_dir = \"C:/Users/ycliou/Desktop/xray/8020\"  # 分割後資料儲存的根目錄\n",
    "train_dir = os.path.join(output_dir, 'train')  # 訓練集資料夾\n",
    "test_dir = os.path.join(output_dir, 'test')  # 測試集資料夾\n",
    "\n",
    "# 創建所有資料夾\n",
    "os.makedirs(train_dir, exist_ok=True)\n",
    "os.makedirs(test_dir, exist_ok=True)\n",
    "\n",
    "# 讀取影像並進行前處理\n",
    "def create_all_data():\n",
    "    for category in categories:\n",
    "        path = os.path.join(all_dir, category)\n",
    "        class_num = categories.index(category)\n",
    "        for img_name in os.listdir(path):\n",
    "            img_path = os.path.join(path, img_name)\n",
    "            \n",
    "            if not os.path.isfile(img_path):\n",
    "                continue  # 跳過目錄和非圖片檔案\n",
    "            \n",
    "            if not img_name.lower().endswith(('.jpg', '.png','jpeg')):\n",
    "                continue  # 跳過非圖片檔案\n",
    "            \n",
    "            img_array = cv2.imread(img_path)\n",
    "            if img_array is None:\n",
    "                print(f\"Failed to load image: {img_path}\")\n",
    "                continue  # 無法加載圖片則跳過\n",
    "            \n",
    "            all_data.append([img_array, class_num, img_name])  # 保存原始圖像資料和標籤\n",
    "\n",
    "create_all_data()\n",
    "\n",
    "# 將所有圖像隨機打亂\n",
    "random.shuffle(all_data)\n",
    "\n",
    "# 分離出 X 和 Y，X 為圖像，Y 為標籤\n",
    "X = []\n",
    "Y = []\n",
    "image_names = []  # 保存圖像名稱\n",
    "\n",
    "for features, label, img_name in all_data:\n",
    "    X.append(features)\n",
    "    Y.append(label)\n",
    "    image_names.append(img_name)\n",
    "\n",
    "X = np.array(X, dtype=object)  # 使用 dtype=object 保留原始大小的 numpy 陣列\n",
    "Y = np.array(Y)\n",
    "\n",
    "# 分割資料集\n",
    "X_train, X_test, y_train, y_test, img_train, img_test = train_test_split(\n",
    "    X, Y, image_names, test_size=0.2, random_state=42)\n",
    "\n",
    "# 儲存圖片到對應的資料夾\n",
    "def save_images(images, labels, img_names, base_dir):\n",
    "    for img, label, img_name in zip(images, labels, img_names):\n",
    "        img_save_path = os.path.join(base_dir, img_name)  # 直接使用檔名保存圖片\n",
    "        cv2.imwrite(img_save_path, img)  # 保存原始大小的圖片\n",
    "\n",
    "# 將訓練集圖片保存到 train 資料夾\n",
    "save_images(X_train, y_train, img_train, train_dir)\n",
    "\n",
    "# 將測試集圖片保存到 test 資料夾\n",
    "save_images(X_test, y_test, img_test, test_dir)\n",
    "\n",
    "print(f\"圖片已保存到 '{output_dir}' 資料夾中，分為訓練集和測試集。\")"
   ]
  },
  {
   "cell_type": "code",
   "execution_count": null,
   "id": "c1f2cb6a-17d3-48a1-8971-8f6752334504",
   "metadata": {},
   "outputs": [],
   "source": []
  }
 ],
 "metadata": {
  "kernelspec": {
   "display_name": "Python 3 (ipykernel)",
   "language": "python",
   "name": "python3"
  },
  "language_info": {
   "codemirror_mode": {
    "name": "ipython",
    "version": 3
   },
   "file_extension": ".py",
   "mimetype": "text/x-python",
   "name": "python",
   "nbconvert_exporter": "python",
   "pygments_lexer": "ipython3",
   "version": "3.12.4"
  }
 },
 "nbformat": 4,
 "nbformat_minor": 5
}
